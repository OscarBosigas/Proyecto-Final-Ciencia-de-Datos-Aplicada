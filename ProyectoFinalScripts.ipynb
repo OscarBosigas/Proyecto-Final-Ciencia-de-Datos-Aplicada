{
  "cells": [
    {
      "cell_type": "code",
      "execution_count": 8,
      "id": "b0a2b1b8",
      "metadata": {
        "id": "b0a2b1b8"
      },
      "outputs": [],
      "source": [
        "#Importaciones necesarias\n",
        "\n",
        "import pandas as pd \n",
        "import numpy as np\n",
        "import matplotlib.pyplot as plt\n",
        "import seaborn as sns\n",
        "\n",
        "from datetime import datetime"
      ]
    },
    {
      "cell_type": "markdown",
      "source": [
        "# **Entendimiento de los Datos**"
      ],
      "metadata": {
        "id": "Hv3mcK6Nw7jD"
      },
      "id": "Hv3mcK6Nw7jD"
    },
    {
      "cell_type": "code",
      "execution_count": 9,
      "id": "f10566cf",
      "metadata": {
        "id": "f10566cf"
      },
      "outputs": [],
      "source": [
        "cosechas= pd.read_csv('https://raw.githubusercontent.com/OscarBosigas/Proyecto-Final-Ciencia-de-Datos-Aplicada/main/Evaluaciones_Agropecuarias_Municipales_EVA.csv', sep = ',')"
      ]
    },
    {
      "cell_type": "markdown",
      "source": [
        "El diccionario de datos provistos es:"
      ],
      "metadata": {
        "id": "mYGXjbK0yddg"
      },
      "id": "mYGXjbK0yddg"
    },
    {
      "cell_type": "markdown",
      "source": [
        "| Nombre de la columna | Descripción| \n",
        "| --- | --- |\n",
        "|COD DEPARTAMENTO|\tCódigo del departamento, según lo establecido por el DANE|\n",
        "|DEPARTAMENTO|\tDepartamento Colombiano|\n",
        "|COD MUNICIPIO|\tCódigo del municipio, según lo establecido por el DANE|\n",
        "|MUNICIPIO|\tMunicipio Colombiano|\n",
        "|GRUPO DE CULTIVO|\tCategoría del cultivo|\n",
        "|SUBGRUPO DE CULTIVO|\tTipo de cultivo según categoría|\n",
        "|CULTIVO|\tNombre del cultivo|\n",
        "|DESAGRAGACION REGIONAL Y/O SISTEMA PRODUCTIVO|\tNombre genérico del cultivo|\n",
        "|AÑO|\tAño de producción|\n",
        "|PERIODO|\tPeriodo médico, siendo A los primeros 6 meses y B los últimos|\n",
        "|ÁREA SEMBRADA (ha)|\tÁrea sembrada en hectáreas|\n",
        "|ÁREA COSECHADA (ha)|\tÁrea cosechada en hectáreas|\n",
        "|PRODUCCIÓN (t)|\tTiempo de producción|\n",
        "|RENDIMIENTO (t/ha)|\tRendimiento de la cosecha|\n",
        "|ESTADO FISICO PRODUCCION|\tEstado del producto|\n",
        "|NOMBRE CIENTIFICO|\tNombre científico del cultivo|\n",
        "|CICLO DE CULTIVO|\tCiclo del cultivo en el país|\n"
      ],
      "metadata": {
        "id": "5PnrZlqDx84J"
      },
      "id": "5PnrZlqDx84J"
    },
    {
      "cell_type": "markdown",
      "source": [],
      "metadata": {
        "id": "5opP0z--zqkD"
      },
      "id": "5opP0z--zqkD"
    },
    {
      "cell_type": "markdown",
      "source": [
        "# **Preparación de los Datos**"
      ],
      "metadata": {
        "id": "lUEXz-G7xBZT"
      },
      "id": "lUEXz-G7xBZT"
    },
    {
      "cell_type": "code",
      "source": [
        "cosechas.info()"
      ],
      "metadata": {
        "colab": {
          "base_uri": "https://localhost:8080/"
        },
        "id": "Ssx1rCkrztQ_",
        "outputId": "0403dbb9-22c8-4953-819a-e739f5b6966e"
      },
      "id": "Ssx1rCkrztQ_",
      "execution_count": 10,
      "outputs": [
        {
          "output_type": "stream",
          "name": "stdout",
          "text": [
            "<class 'pandas.core.frame.DataFrame'>\n",
            "RangeIndex: 206068 entries, 0 to 206067\n",
            "Data columns (total 17 columns):\n",
            " #   Column                                         Non-Null Count   Dtype  \n",
            "---  ------                                         --------------   -----  \n",
            " 0   CÓD. DEP.                                      206068 non-null  int64  \n",
            " 1   DEPARTAMENTO                                   206068 non-null  object \n",
            " 2   CÓD. MUN.                                      206068 non-null  int64  \n",
            " 3   MUNICIPIO                                      206067 non-null  object \n",
            " 4   GRUPO DE CULTIVO                               206068 non-null  object \n",
            " 5   SUBGRUPO DE CULTIVO                            206068 non-null  object \n",
            " 6   CULTIVO                                        206068 non-null  object \n",
            " 7   DESAGREGACIÓN REGIONAL Y/O SISTEMA PRODUCTIVO  206068 non-null  object \n",
            " 8   AÑO                                            206068 non-null  int64  \n",
            " 9   PERIODO                                        206068 non-null  object \n",
            " 10  Área Sembrada (ha)                             206068 non-null  int64  \n",
            " 11  Área Cosechada(ha)                             206068 non-null  int64  \n",
            " 12  Producción (t)                                 206068 non-null  int64  \n",
            " 13  Rendimiento (t/ha)                             202635 non-null  float64\n",
            " 14  ESTADO FISICO PRODUCCION                       206068 non-null  object \n",
            " 15  NOMBRE CIENTIFICO                              203211 non-null  object \n",
            " 16  CICLO DE CULTIVO                               206068 non-null  object \n",
            "dtypes: float64(1), int64(6), object(10)\n",
            "memory usage: 26.7+ MB\n"
          ]
        }
      ]
    },
    {
      "cell_type": "markdown",
      "id": "fadb8898",
      "metadata": {
        "id": "fadb8898"
      },
      "source": [
        "## Limpieza de datos"
      ]
    },
    {
      "cell_type": "code",
      "execution_count": 11,
      "id": "f8312f48",
      "metadata": {
        "id": "f8312f48"
      },
      "outputs": [],
      "source": [
        "#Algunos datos numéricos no contienen ningun valor por lo que los reeemplazamos por 0  \n",
        "cosechas = cosechas.replace(\"\",0)\n"
      ]
    },
    {
      "cell_type": "code",
      "execution_count": 11,
      "id": "2d8eec3b",
      "metadata": {
        "id": "2d8eec3b"
      },
      "outputs": [],
      "source": []
    },
    {
      "cell_type": "markdown",
      "source": [
        "# **Modelamiento**"
      ],
      "metadata": {
        "id": "h4H2k9YexHkp"
      },
      "id": "h4H2k9YexHkp"
    }
  ],
  "metadata": {
    "kernelspec": {
      "display_name": "Python 3 (ipykernel)",
      "language": "python",
      "name": "python3"
    },
    "language_info": {
      "codemirror_mode": {
        "name": "ipython",
        "version": 3
      },
      "file_extension": ".py",
      "mimetype": "text/x-python",
      "name": "python",
      "nbconvert_exporter": "python",
      "pygments_lexer": "ipython3",
      "version": "3.9.12"
    },
    "colab": {
      "provenance": [],
      "toc_visible": true
    }
  },
  "nbformat": 4,
  "nbformat_minor": 5
}