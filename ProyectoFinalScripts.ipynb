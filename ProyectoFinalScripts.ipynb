{
 "cells": [
  {
   "cell_type": "code",
   "execution_count": 1,
   "id": "b0a2b1b8",
   "metadata": {},
   "outputs": [],
   "source": [
    "#Importaciones necesarias\n",
    "\n",
    "import pandas as pd \n",
    "import numpy as np\n",
    "import matplotlib.pyplot as plt\n",
    "import seaborn as sns\n",
    "\n",
    "from datetime import datetime"
   ]
  },
  {
   "cell_type": "code",
   "execution_count": 2,
   "id": "f10566cf",
   "metadata": {},
   "outputs": [],
   "source": [
    "cosechas= pd.read_csv('Evaluaciones_Agropecuarias_Municipales_EVA.csv')"
   ]
  },
  {
   "cell_type": "markdown",
   "id": "fadb8898",
   "metadata": {},
   "source": [
    "## Limpieza de datos"
   ]
  },
  {
   "cell_type": "code",
   "execution_count": 4,
   "id": "f8312f48",
   "metadata": {},
   "outputs": [],
   "source": [
    "#Algunos datos numéricos no contienen ningun valor por lo que los reeemplazamos por 0  \n",
    "cosechas = cosechas.replace(\"\",0)\n"
   ]
  },
  {
   "cell_type": "code",
   "execution_count": null,
   "id": "2d8eec3b",
   "metadata": {},
   "outputs": [],
   "source": []
  }
 ],
 "metadata": {
  "kernelspec": {
   "display_name": "Python 3 (ipykernel)",
   "language": "python",
   "name": "python3"
  },
  "language_info": {
   "codemirror_mode": {
    "name": "ipython",
    "version": 3
   },
   "file_extension": ".py",
   "mimetype": "text/x-python",
   "name": "python",
   "nbconvert_exporter": "python",
   "pygments_lexer": "ipython3",
   "version": "3.9.12"
  }
 },
 "nbformat": 4,
 "nbformat_minor": 5
}
